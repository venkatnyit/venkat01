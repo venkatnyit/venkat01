{
 "cells": [
  {
   "cell_type": "code",
   "execution_count": 48,
   "id": "9e91ab35",
   "metadata": {},
   "outputs": [],
   "source": [
    "import requests\n",
    "from bs4 import BeautifulSoup\n",
    "\n",
    "# Define the URL of the faculty directory or departmental page\n",
    "url = \"https://computerscience.engineering.unt.edu/people/faculty\"  # Replace with the actual URL\n"
   ]
  },
  {
   "cell_type": "code",
   "execution_count": 49,
   "id": "63e2523e",
   "metadata": {},
   "outputs": [
    {
     "data": {
      "text/plain": [
       "<Response [200]>"
      ]
     },
     "execution_count": 49,
     "metadata": {},
     "output_type": "execute_result"
    }
   ],
   "source": [
    "# Sending an HTTP GET request\n",
    "response = requests.get(url)\n",
    "response"
   ]
  },
  {
   "cell_type": "code",
   "execution_count": 50,
   "id": "588375c0",
   "metadata": {},
   "outputs": [],
   "source": [
    "soup = BeautifulSoup(response.text, 'html.parser')\n",
    "     "
   ]
  },
  {
   "cell_type": "code",
   "execution_count": 51,
   "id": "54f90d91",
   "metadata": {},
   "outputs": [],
   "source": [
    "paragraphs = soup.find_all('p')\n",
    "paragraphs = soup.select('p')"
   ]
  },
  {
   "cell_type": "code",
   "execution_count": 52,
   "id": "5298460e",
   "metadata": {},
   "outputs": [
    {
     "data": {
      "text/plain": [
       "[<p aria-hidden=\"true\" class=\"footer-site-name\">Computer Science and Engineering</p>,\n",
       " <p class=\"address\">\n",
       " <a aria-label=\"Find UNT Discovery Park on Google Maps\" href=\"https://www.google.com/maps/place/University+of+North+Texas+Discovery+Park,+3940+N+Elm+St,+Denton,+TX+76207/@33.2539479,-97.1539\" target=\"_blank\">\n",
       " \n",
       "             UNT Discovery Park</a><br/>\n",
       " \n",
       " \t\t\t\t\t1155 Union Circle #311366\t\t\t\t\t\t\t\t\t\tDenton, Texas 76203-5017<br/>\n",
       " <a aria-label=\"Go to our Visitor Information page\" class=\"visitor-info\" href=\"https://www.unt.edu/community\">Visitor Information</a></p>,\n",
       " <p>©2023 University of North Texas</p>,\n",
       " <p class=\"mobile required-links\"><a href=\"//www.unt.edu/required-links\">Required Links</a><span></span></p>]"
      ]
     },
     "execution_count": 52,
     "metadata": {},
     "output_type": "execute_result"
    }
   ],
   "source": [
    "paragraphs"
   ]
  },
  {
   "cell_type": "code",
   "execution_count": 53,
   "id": "95b21b9e",
   "metadata": {},
   "outputs": [],
   "source": [
    "professor_elements = soup.select('.name ')\n",
    "     "
   ]
  },
  {
   "cell_type": "code",
   "execution_count": 54,
   "id": "e9ab6642",
   "metadata": {},
   "outputs": [
    {
     "data": {
      "text/plain": [
       "[<h5 class=\"name\"> <a href=\"/people/faculty/robert-akl\">Robert Akl</a> </h5>,\n",
       " <h5 class=\"name\"> <a href=\"/people/faculty/mark-albert\">Mark Albert</a> </h5>,\n",
       " <h5 class=\"name\"> <a href=\"/people/faculty/wajdi-aljedaani\">Wajdi Aljedaani</a> </h5>,\n",
       " <h5 class=\"name\"> <a href=\"/people/faculty/mohsen-amini\">Mohsen Amini</a> </h5>,\n",
       " <h5 class=\"name\"> <a href=\"/people/faculty/asif-baba\">Asif Baba</a> </h5>,\n",
       " <h5 class=\"name\"> <a href=\"/people/faculty/lotfi-benothmane\">Lotfi Benothmane</a> </h5>,\n",
       " <h5 class=\"name\"> <a href=\"/people/faculty/sanjukta-bhowmick\">Sanjukta Bhowmick</a> </h5>,\n",
       " <h5 class=\"name\"> <a href=\"/people/faculty/serdar-bozdag\">Serdar Bozdag</a> </h5>,\n",
       " <h5 class=\"name\"> <a href=\"/people/faculty/renee-bryce\">Renee Bryce</a> </h5>,\n",
       " <h5 class=\"name\"> <a href=\"/people/faculty/bill-buckles\">Bill Buckles</a> </h5>,\n",
       " <h5 class=\"name\"> <a href=\"/people/faculty/curtis-chambers\">Curtis Chambers</a> </h5>,\n",
       " <h5 class=\"name\"> <a href=\"/people/faculty/ram-dantu\">Ram Dantu</a> </h5>,\n",
       " <h5 class=\"name\"> <a href=\"/people/faculty/hyunsook-do\">Hyunsook Do</a> </h5>,\n",
       " <h5 class=\"name\"> <a href=\"/people/faculty/jonathon-doran\">Jonathon Doran</a> </h5>,\n",
       " <h5 class=\"name\"> <a href=\"/people/faculty/bahareh-dorri\">Bahareh Dorri</a> </h5>,\n",
       " <h5 class=\"name\"> <a href=\"/people/faculty/moawia-eldow\">Moawia Eldow</a> </h5>,\n",
       " <h5 class=\"name\"> <a href=\"/people/faculty/heng-fan\">Heng Fan</a> </h5>,\n",
       " <h5 class=\"name\"> <a href=\"/people/faculty/yunhe-feng\">Yunhe Feng</a> </h5>,\n",
       " <h5 class=\"name\"> <a href=\"/people/faculty/ervin-frenzel\">Ervin Frenzel</a> </h5>,\n",
       " <h5 class=\"name\"> <a href=\"/people/faculty/song-fu\">Song Fu</a> </h5>,\n",
       " <h5 class=\"name\"> <a href=\"/people/faculty/ryan-garlick\">Ryan Garlick</a> </h5>,\n",
       " <h5 class=\"name\"> <a href=\"/people/faculty/hadiseh-gooran\">Hadiseh Gooran</a> </h5>,\n",
       " <h5 class=\"name\"> <a href=\"/people/faculty/xuan-guo\">Xuan Guo</a> </h5>,\n",
       " <h5 class=\"name\"> <a href=\"/people/faculty/jacob-hochstetler\">Jacob Hochstetler</a> </h5>,\n",
       " <h5 class=\"name\"> <a href=\"/people/faculty/yan-huang\">Yan Huang</a> </h5>,\n",
       " <h5 class=\"name\"> <a href=\"/people/faculty/faridul-islam\">Faridul Islam</a> </h5>,\n",
       " <h5 class=\"name\"> <a href=\"/people/faculty/yuede-ji\">Yuede Ji</a> </h5>,\n",
       " <h5 class=\"name\"> <a href=\"/people/faculty/beilei-jiang\">Beilei Jiang</a> </h5>,\n",
       " <h5 class=\"name\"> <a href=\"/people/faculty/wei-jin\">Wei Jin</a> </h5>,\n",
       " <h5 class=\"name\"> <a href=\"/people/faculty/krishna-kavi\">Krishna Kavi</a> </h5>,\n",
       " <h5 class=\"name\"> <a href=\"/people/faculty/david-keathly\">David Keathly</a> </h5>,\n",
       " <h5 class=\"name\"> <a href=\"/people/faculty/yuan-li\">Yuan Li</a> </h5>,\n",
       " <h5 class=\"name\"> <a href=\"/people/faculty/stephanie-ludi\">Stephanie Ludi</a> </h5>,\n",
       " <h5 class=\"name\"> <a href=\"/people/faculty/amar-maharjan\">Amar Maharjan</a> </h5>,\n",
       " <h5 class=\"name\"> <a href=\"/people/faculty/amir-mirzaeinia\">Amir Mirzaeinia</a> </h5>,\n",
       " <h5 class=\"name\"> <a href=\"/people/faculty/saraju-mohanty\">Saraju Mohanty</a> </h5>,\n",
       " <h5 class=\"name\"> <a href=\"/people/faculty/kirill-morozov\">Kirill Morozov</a> </h5>,\n",
       " <h5 class=\"name\"> <a href=\"/people/faculty/beddhu-murali\">Beddhu Murali</a> </h5>,\n",
       " <h5 class=\"name\"> <a href=\"/people/faculty/rodney-nielsen\">Rodney Nielsen</a> </h5>,\n",
       " <h5 class=\"name\"> <a href=\"/people/faculty/junghwan-oh\">JungHwan Oh</a> </h5>,\n",
       " <h5 class=\"name\"> <a href=\"/people/faculty/tejasvi-parupudi\">Tejasvi Parupudi</a> </h5>,\n",
       " <h5 class=\"name\"> <a href=\"/people/faculty/russel-pears\">Russel Pears</a> </h5>,\n",
       " <h5 class=\"name\"> <a href=\"/people/faculty/robin-pottathuparambil\">Robin Pottathuparambil</a> </h5>,\n",
       " <h5 class=\"name\"> <a href=\"/people/faculty/chenxi-qiu\">Chenxi Qiu</a> </h5>,\n",
       " <h5 class=\"name\"> <a href=\"/people/faculty/jesus-ubaldo-quevedo-torrero\">Jesus Ubaldo Quevedo-Torrero</a> </h5>,\n",
       " <h5 class=\"name\"> <a href=\"/people/faculty/diana-rabah\">Diana Rabah</a> </h5>,\n",
       " <h5 class=\"name\"> <a href=\"/people/faculty/ajita-rattani\">Ajita Rattani</a> </h5>,\n",
       " <h5 class=\"name\"> <a href=\"/people/faculty/sayed-khushal-shah\">Sayed Khushal Shah</a> </h5>,\n",
       " <h5 class=\"name\"> <a href=\"/people/faculty/weishi-shi\">Weishi Shi</a> </h5>,\n",
       " <h5 class=\"name\"> <a href=\"/people/faculty/pradhumna-shrestha\">Pradhumna Shrestha</a> </h5>,\n",
       " <h5 class=\"name\"> <a href=\"/people/faculty/tong-shu\">Tong Shu</a> </h5>,\n",
       " <h5 class=\"name\"> <a href=\"/people/faculty/paul-tarau\">Paul Tarau</a> </h5>,\n",
       " <h5 class=\"name\"> <a href=\"/people/faculty/zeenat-tariq\">Zeenat Tariq</a> </h5>,\n",
       " <h5 class=\"name\"> <a href=\"/people/faculty/cihan-tunc\">Cihan Tunc</a> </h5>,\n",
       " <h5 class=\"name\"> <a href=\"/people/faculty/pavlo-tymoshchuk\">Pavlo Tymoshchuk</a> </h5>,\n",
       " <h5 class=\"name\"> <a href=\"/people/faculty/haili-wang\">Haili Wang</a> </h5>,\n",
       " <h5 class=\"name\"> <a href=\"/people/faculty/qing-yang\">Qing Yang</a> </h5>,\n",
       " <h5 class=\"name\"> <a href=\"/people/faculty/xiaohui-yuan\">Xiaohui Yuan</a> </h5>,\n",
       " <h5 class=\"name\"> <a href=\"/people/faculty/jing-yuan\">Jing Yuan</a> </h5>,\n",
       " <h5 class=\"name\"> <a href=\"/people/faculty/ali-zarafshani\">Ali Zarafshani</a> </h5>,\n",
       " <h5 class=\"name\"> <a href=\"/people/faculty/gergely-zaruba\">Gergely Záruba</a> </h5>,\n",
       " <h5 class=\"name\"> <a href=\"/people/faculty/hui-zhao\">Hui Zhao</a> </h5>,\n",
       " <h5 class=\"name\"> <a href=\"/people/faculty/rajeev-azad\">Rajeev Azad</a> </h5>,\n",
       " <h5 class=\"name\"> <a href=\"/people/faculty/yanyan-he\">Yanyan He</a> </h5>,\n",
       " <h5 class=\"name\"> <a href=\"/people/faculty/ruth-west\">Ruth West</a> </h5>,\n",
       " <h5 class=\"name\"> <a href=\"/people/faculty/ting-xiao\">Ting Xiao</a> </h5>,\n",
       " <h5 class=\"name\"> <a href=\"/people/faculty/bugao-xu\">Bugao Xu</a> </h5>,\n",
       " <h5 class=\"name\"> <a href=\"/people/faculty/wei-kang\">Wei Kang</a> </h5>,\n",
       " <h5 class=\"name\"> <a href=\"/people/faculty/lu-liang\">Lu Liang</a> </h5>,\n",
       " <h5 class=\"name\"> <a href=\"/people/faculty/ravi-vadapalli\">Ravi Vadapalli</a> </h5>,\n",
       " <h5 class=\"name\"> <a href=\"/people/faculty/ian-parberry\">Ian Parberry</a> </h5>,\n",
       " <h5 class=\"name\"> <a href=\"/people/faculty/robert-renka\">Robert Renka</a> </h5>]"
      ]
     },
     "execution_count": 54,
     "metadata": {},
     "output_type": "execute_result"
    }
   ],
   "source": [
    "professor_elements"
   ]
  },
  {
   "cell_type": "code",
   "execution_count": 55,
   "id": "b06b8389",
   "metadata": {},
   "outputs": [],
   "source": [
    "prof_names = [x.get_text().rstrip() for x in professor_elements]"
   ]
  },
  {
   "cell_type": "code",
   "execution_count": 56,
   "id": "074f68f1",
   "metadata": {},
   "outputs": [
    {
     "data": {
      "text/plain": [
       "[' Robert Akl',\n",
       " ' Mark Albert',\n",
       " ' Wajdi Aljedaani',\n",
       " ' Mohsen Amini',\n",
       " ' Asif Baba',\n",
       " ' Lotfi Benothmane',\n",
       " ' Sanjukta Bhowmick',\n",
       " ' Serdar Bozdag',\n",
       " ' Renee Bryce',\n",
       " ' Bill Buckles',\n",
       " ' Curtis Chambers',\n",
       " ' Ram Dantu',\n",
       " ' Hyunsook Do',\n",
       " ' Jonathon Doran',\n",
       " ' Bahareh Dorri',\n",
       " ' Moawia Eldow',\n",
       " ' Heng Fan',\n",
       " ' Yunhe Feng',\n",
       " ' Ervin Frenzel',\n",
       " ' Song Fu',\n",
       " ' Ryan Garlick',\n",
       " ' Hadiseh Gooran',\n",
       " ' Xuan Guo',\n",
       " ' Jacob Hochstetler',\n",
       " ' Yan Huang',\n",
       " ' Faridul Islam',\n",
       " ' Yuede Ji',\n",
       " ' Beilei Jiang',\n",
       " ' Wei Jin',\n",
       " ' Krishna Kavi',\n",
       " ' David Keathly',\n",
       " ' Yuan Li',\n",
       " ' Stephanie Ludi',\n",
       " ' Amar Maharjan',\n",
       " ' Amir Mirzaeinia',\n",
       " ' Saraju Mohanty',\n",
       " ' Kirill Morozov',\n",
       " ' Beddhu Murali',\n",
       " ' Rodney Nielsen',\n",
       " ' JungHwan Oh',\n",
       " ' Tejasvi Parupudi',\n",
       " ' Russel Pears',\n",
       " ' Robin Pottathuparambil',\n",
       " ' Chenxi Qiu',\n",
       " ' Jesus Ubaldo Quevedo-Torrero',\n",
       " ' Diana Rabah',\n",
       " ' Ajita Rattani',\n",
       " ' Sayed Khushal Shah',\n",
       " ' Weishi Shi',\n",
       " ' Pradhumna Shrestha',\n",
       " ' Tong Shu',\n",
       " ' Paul Tarau',\n",
       " ' Zeenat Tariq',\n",
       " ' Cihan Tunc',\n",
       " ' Pavlo Tymoshchuk',\n",
       " ' Haili Wang',\n",
       " ' Qing Yang',\n",
       " ' Xiaohui Yuan',\n",
       " ' Jing Yuan',\n",
       " ' Ali Zarafshani',\n",
       " ' Gergely Záruba',\n",
       " ' Hui Zhao',\n",
       " ' Rajeev Azad',\n",
       " ' Yanyan He',\n",
       " ' Ruth West',\n",
       " ' Ting Xiao',\n",
       " ' Bugao Xu',\n",
       " ' Wei Kang',\n",
       " ' Lu Liang',\n",
       " ' Ravi Vadapalli',\n",
       " ' Ian Parberry',\n",
       " ' Robert Renka']"
      ]
     },
     "execution_count": 56,
     "metadata": {},
     "output_type": "execute_result"
    }
   ],
   "source": [
    "prof_names"
   ]
  },
  {
   "cell_type": "code",
   "execution_count": 57,
   "id": "5e6e8f6d",
   "metadata": {},
   "outputs": [
    {
     "name": "stdout",
     "output_type": "stream",
     "text": [
      "<h5 class=\"name\"> <a href=\"/people/faculty/robert-akl\">Robert Akl</a> </h5>\n"
     ]
    }
   ],
   "source": [
    "print(str(professor_elements[0]))"
   ]
  },
  {
   "cell_type": "code",
   "execution_count": 63,
   "id": "5eb35ae5",
   "metadata": {},
   "outputs": [],
   "source": [
    "trial_soup = BeautifulSoup(str(professor_elements[0]), 'html.parser')"
   ]
  },
  {
   "cell_type": "code",
   "execution_count": 65,
   "id": "da29d11b",
   "metadata": {},
   "outputs": [
    {
     "name": "stdout",
     "output_type": "stream",
     "text": [
      "/people/faculty/robert-akl\n"
     ]
    }
   ],
   "source": [
    "print(trial_soup.find('h5').find('a')['href'])"
   ]
  },
  {
   "cell_type": "code",
   "execution_count": 67,
   "id": "399a4dda",
   "metadata": {},
   "outputs": [],
   "source": [
    "prof_urls = []\n",
    "\n",
    "for url in professor_elements:\n",
    "  x_soup = BeautifulSoup(str(url), 'html.parser')\n",
    "  complete_url = \"https://computerscience.engineering.unt.edu\"+x_soup.find('h5').find('a')['href']\n",
    "  prof_urls.append(complete_url)"
   ]
  },
  {
   "cell_type": "code",
   "execution_count": 68,
   "id": "ec4e1e66",
   "metadata": {},
   "outputs": [
    {
     "data": {
      "text/plain": [
       "'https://computerscience.engineering.unt.edu/people/faculty/robert-akl'"
      ]
     },
     "execution_count": 68,
     "metadata": {},
     "output_type": "execute_result"
    }
   ],
   "source": [
    "prof_urls[0]"
   ]
  },
  {
   "cell_type": "code",
   "execution_count": 69,
   "id": "68c12556",
   "metadata": {},
   "outputs": [],
   "source": [
    "prof_profiles = soup.find_all(\"div\",{\"class\":\"text-box <p> <strong> <span style = font-size: 16px;>\"})"
   ]
  },
  {
   "cell_type": "code",
   "execution_count": 70,
   "id": "cbcda3e8",
   "metadata": {},
   "outputs": [],
   "source": [
    "prof_profiles = soup.select('.name')"
   ]
  },
  {
   "cell_type": "code",
   "execution_count": 71,
   "id": "e8480533",
   "metadata": {},
   "outputs": [],
   "source": [
    "##########FINAL-CODE############\n",
    "names_and_research = []\n",
    "prof_urls = []\n",
    "for profile in prof_profiles:\n",
    "  profile_soup = BeautifulSoup(str(profile), 'html.parser')\n",
    "  a_tags = profile_soup.find_all('a')\n",
    "  prof_webpage = \"https://computerscience.engineering.unt.edu\"+profile_soup.find('h5').find('a')['href']\n",
    "\n",
    "  prof_urls.append(prof_webpage)\n",
    "  names_and_research.append([ x.get_text() for x in a_tags])\n"
   ]
  },
  {
   "cell_type": "code",
   "execution_count": 72,
   "id": "efbc1f71",
   "metadata": {},
   "outputs": [
    {
     "data": {
      "text/plain": [
       "[['Robert Akl'],\n",
       " ['Mark Albert'],\n",
       " ['Wajdi Aljedaani'],\n",
       " ['Mohsen Amini'],\n",
       " ['Asif Baba'],\n",
       " ['Lotfi Benothmane'],\n",
       " ['Sanjukta Bhowmick'],\n",
       " ['Serdar Bozdag'],\n",
       " ['Renee Bryce'],\n",
       " ['Bill Buckles'],\n",
       " ['Curtis Chambers'],\n",
       " ['Ram Dantu'],\n",
       " ['Hyunsook Do'],\n",
       " ['Jonathon Doran'],\n",
       " ['Bahareh Dorri'],\n",
       " ['Moawia Eldow'],\n",
       " ['Heng Fan'],\n",
       " ['Yunhe Feng'],\n",
       " ['Ervin Frenzel'],\n",
       " ['Song Fu'],\n",
       " ['Ryan Garlick'],\n",
       " ['Hadiseh Gooran'],\n",
       " ['Xuan Guo'],\n",
       " ['Jacob Hochstetler'],\n",
       " ['Yan Huang'],\n",
       " ['Faridul Islam'],\n",
       " ['Yuede Ji'],\n",
       " ['Beilei Jiang'],\n",
       " ['Wei Jin'],\n",
       " ['Krishna Kavi'],\n",
       " ['David Keathly'],\n",
       " ['Yuan Li'],\n",
       " ['Stephanie Ludi'],\n",
       " ['Amar Maharjan'],\n",
       " ['Amir Mirzaeinia'],\n",
       " ['Saraju Mohanty'],\n",
       " ['Kirill Morozov'],\n",
       " ['Beddhu Murali'],\n",
       " ['Rodney Nielsen'],\n",
       " ['JungHwan Oh'],\n",
       " ['Tejasvi Parupudi'],\n",
       " ['Russel Pears'],\n",
       " ['Robin Pottathuparambil'],\n",
       " ['Chenxi Qiu'],\n",
       " ['Jesus Ubaldo Quevedo-Torrero'],\n",
       " ['Diana Rabah'],\n",
       " ['Ajita Rattani'],\n",
       " ['Sayed Khushal Shah'],\n",
       " ['Weishi Shi'],\n",
       " ['Pradhumna Shrestha'],\n",
       " ['Tong Shu'],\n",
       " ['Paul Tarau'],\n",
       " ['Zeenat Tariq'],\n",
       " ['Cihan Tunc'],\n",
       " ['Pavlo Tymoshchuk'],\n",
       " ['Haili Wang'],\n",
       " ['Qing Yang'],\n",
       " ['Xiaohui Yuan'],\n",
       " ['Jing Yuan'],\n",
       " ['Ali Zarafshani'],\n",
       " ['Gergely Záruba'],\n",
       " ['Hui Zhao'],\n",
       " ['Rajeev Azad'],\n",
       " ['Yanyan He'],\n",
       " ['Ruth West'],\n",
       " ['Ting Xiao'],\n",
       " ['Bugao Xu'],\n",
       " ['Wei Kang'],\n",
       " ['Lu Liang'],\n",
       " ['Ravi Vadapalli'],\n",
       " ['Ian Parberry'],\n",
       " ['Robert Renka']]"
      ]
     },
     "execution_count": 72,
     "metadata": {},
     "output_type": "execute_result"
    }
   ],
   "source": [
    "names_and_research"
   ]
  },
  {
   "cell_type": "code",
   "execution_count": 73,
   "id": "8cbcd317",
   "metadata": {},
   "outputs": [
    {
     "name": "stdout",
     "output_type": "stream",
     "text": [
      "Names written to file.\n"
     ]
    }
   ],
   "source": [
    "#Names\n",
    "with open('professor_names.txt', 'w', encoding='utf-8') as file:\n",
    "  for element in names_and_research:\n",
    "    name = element[0].rstrip()\n",
    "    file.write(f\"Name: {name}\\n\")\n",
    "\n",
    "  print(\"Names written to file.\")"
   ]
  },
  {
   "cell_type": "code",
   "execution_count": 74,
   "id": "bc53cf32",
   "metadata": {},
   "outputs": [
    {
     "name": "stdout",
     "output_type": "stream",
     "text": [
      "Bios written to file.\n"
     ]
    }
   ],
   "source": [
    "#Research Areas\n",
    "with open('professor_research_areas.txt', 'w', encoding='utf-8') as file:\n",
    "  for element in names_and_research:\n",
    "    elements_to_print = element[1:]\n",
    "    result_string = \",\".join(elements_to_print)\n",
    "\n",
    "    file.write(f\"Prof {element[0].rstrip()} Research Areas: {result_string}\\n\")\n",
    "  print(\"Bios written to file.\")"
   ]
  },
  {
   "cell_type": "code",
   "execution_count": 75,
   "id": "253cea0d",
   "metadata": {},
   "outputs": [
    {
     "name": "stdout",
     "output_type": "stream",
     "text": [
      "URLs written.\n"
     ]
    }
   ],
   "source": [
    "#URLs\n",
    "with open('professor_urls.txt', 'w', encoding='utf-8') as file:\n",
    "  for url in prof_urls:\n",
    "    file.write(f\"{url}\\n\")\n",
    "print(\"URLs written.\")"
   ]
  },
  {
   "cell_type": "code",
   "execution_count": 76,
   "id": "b765cd93",
   "metadata": {},
   "outputs": [],
   "source": [
    "######FINAL-CODE########\n",
    "final_bio = []\n",
    "for prof_url in prof_urls:\n",
    "  bio = \"\"\n",
    "  response = requests.get(prof_url)\n",
    "  bio_soup = BeautifulSoup(response.text, 'html.parser')\n",
    "  result = bio_soup.find_all(\"div\", {\"class\":\"views-field views-field-field-biography col-md-12 col-sm-12 col-xs-12\"})\n",
    "\n",
    "  if len(result)==0:\n",
    "    bio = \"No biography available on the website. NAD.\"\n",
    "    final_bio.append(bio)\n",
    "  else:\n",
    "    texts = [r.text.strip() for r in result]\n",
    "    final_bio.append(texts[0])"
   ]
  },
  {
   "cell_type": "code",
   "execution_count": 77,
   "id": "3e2830d4",
   "metadata": {},
   "outputs": [
    {
     "name": "stdout",
     "output_type": "stream",
     "text": [
      "Bios written.\n"
     ]
    }
   ],
   "source": [
    "#Bio\n",
    "with open('professor_bios.txt', 'w', encoding='utf-8') as file:\n",
    "  for bio in final_bio:\n",
    "    file.write(f\"{bio}\\n\\n\")\n",
    "print(\"Bios written.\")"
   ]
  },
  {
   "cell_type": "code",
   "execution_count": null,
   "id": "441d08c2",
   "metadata": {},
   "outputs": [],
   "source": []
  },
  {
   "cell_type": "code",
   "execution_count": null,
   "id": "efa49c54",
   "metadata": {},
   "outputs": [],
   "source": []
  },
  {
   "cell_type": "code",
   "execution_count": null,
   "id": "4b7a10eb",
   "metadata": {},
   "outputs": [],
   "source": []
  }
 ],
 "metadata": {
  "kernelspec": {
   "display_name": "Python 3 (ipykernel)",
   "language": "python",
   "name": "python3"
  },
  "language_info": {
   "codemirror_mode": {
    "name": "ipython",
    "version": 3
   },
   "file_extension": ".py",
   "mimetype": "text/x-python",
   "name": "python",
   "nbconvert_exporter": "python",
   "pygments_lexer": "ipython3",
   "version": "3.9.12"
  }
 },
 "nbformat": 4,
 "nbformat_minor": 5
}
